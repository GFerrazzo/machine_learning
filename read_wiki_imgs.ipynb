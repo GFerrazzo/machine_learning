{
 "cells": [
  {
   "cell_type": "markdown",
   "id": "9a183d88",
   "metadata": {},
   "source": [
    "Este notebook tem por objetivo simplesmente carregar o modelo treinado no notebook 'cats_dogs.ipynb' e executar a predição de imagens de gatos e cachorros não presentes no dataset original.\n",
    "\n",
    "Imagens retiradas da [wikimedia](https://commons.wikimedia.org/wiki)."
   ]
  },
  {
   "cell_type": "code",
   "execution_count": 1,
   "id": "34913c2b",
   "metadata": {},
   "outputs": [],
   "source": [
    "import numpy as np\n",
    "\n",
    "import tensorflow as tf\n",
    "from keras.preprocessing import image\n",
    "\n",
    "import matplotlib.pyplot as plt\n",
    "import matplotlib.image as mpimg\n",
    "\n",
    "import os\n",
    "\n",
    "os.environ['TF_FORCE_GPU_ALLOW_GROWTH'] = 'true' # precisei desse parametro para nao estourar a memoria.\n",
    "\n",
    "CATEGORIES = [\"Dog\", \"Cat\"]"
   ]
  },
  {
   "cell_type": "code",
   "execution_count": 9,
   "id": "50f9391e",
   "metadata": {},
   "outputs": [],
   "source": [
    "model = tf.keras.models.load_model(\"models/94_val_acc_01_02_22\")"
   ]
  },
  {
   "cell_type": "code",
   "execution_count": 10,
   "id": "cc2057bf",
   "metadata": {},
   "outputs": [],
   "source": [
    "def cat_or_dog(filename):\n",
    "    file_image = image.load_img(filename, target_size = (256, 256))\n",
    "    file_image = image.img_to_array(file_image)\n",
    "    file_image = np.expand_dims(file_image, axis = 0)\n",
    "    \n",
    "    result = model.predict(file_image)\n",
    "    \n",
    "    return CATEGORIES[int(result[0][0])]"
   ]
  },
  {
   "cell_type": "code",
   "execution_count": 13,
   "id": "9cf67b94",
   "metadata": {
    "scrolled": false
   },
   "outputs": [
    {
     "name": "stdout",
     "output_type": "stream",
     "text": [
      "Cat \t cat_sideways_wiki.jpg\n",
      "Dog \t cat_sideways_wiki1.jpg\n",
      "Dog \t cat_sideways_wiki2.jpg\n",
      "Dog \t cat_sideways_wiki3.jpg\n",
      "Cat \t cat_web.jpg\n",
      "Cat \t cat_white_bg_wiki.jpg\n",
      "Cat \t cat_white_bg_wiki1.jpg\n",
      "Dog \t cat_white_bg_wiki2.jpg\n",
      "Dog \t cat_white_bg_wiki3.jpg\n",
      "Dog \t cat_white_bg_wiki4.jpg\n",
      "Dog \t cat_wiki.jpg\n",
      "Cat \t cat_wiki1.jpg\n",
      "Dog \t cat_wiki2.jpg\n",
      "Dog \t cat_wiki3.jpg\n",
      "Cat \t cat_wiki4.jpg\n",
      "Dog \t cat_wiki5.jpg\n",
      "Dog \t cat_wiki6.jpg\n",
      "Cat \t cat_wiki7.jpg\n",
      "Cat \t cat_wiki8.jpg\n",
      "Dog \t cat_wiki9.jpg\n",
      "Dog \t dog_wiki.jpg\n",
      "Dog \t dog_wiki1.jpg\n",
      "Cat \t dog_wiki10.jpg\n",
      "Cat \t dog_wiki11.jpg\n",
      "Dog \t dog_wiki12.jpg\n",
      "Dog \t dog_wiki13.jpg\n",
      "Dog \t dog_wiki14.jpg\n",
      "Dog \t dog_wiki15.jpg\n",
      "Dog \t dog_wiki16.jpg\n",
      "Dog \t dog_wiki17.jpg\n",
      "Dog \t dog_wiki18.jpg\n",
      "Cat \t dog_wiki19.jpg\n",
      "Dog \t dog_wiki2.jpg\n",
      "Dog \t dog_wiki3.jpg\n",
      "Dog \t dog_wiki4.jpg\n",
      "Dog \t dog_wiki5.jpg\n",
      "Dog \t dog_wiki6.jpg\n",
      "Dog \t dog_wiki7.jpg\n",
      "Dog \t dog_wiki8.jpg\n",
      "Dog \t dog_wiki9.jpg\n"
     ]
    }
   ],
   "source": [
    "directory = \"test_images_for_model/\"\n",
    "for filename in os.listdir(directory):\n",
    "    if filename.endswith(\".jpg\"):\n",
    "        print(cat_or_dog(directory + filename), \"\\t\", filename)"
   ]
  }
 ],
 "metadata": {
  "kernelspec": {
   "display_name": "Python 3 (ipykernel)",
   "language": "python",
   "name": "python3"
  },
  "language_info": {
   "codemirror_mode": {
    "name": "ipython",
    "version": 3
   },
   "file_extension": ".py",
   "mimetype": "text/x-python",
   "name": "python",
   "nbconvert_exporter": "python",
   "pygments_lexer": "ipython3",
   "version": "3.9.7"
  }
 },
 "nbformat": 4,
 "nbformat_minor": 5
}
