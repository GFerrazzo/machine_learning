{
 "cells": [
  {
   "cell_type": "markdown",
   "id": "2c4e113e",
   "metadata": {},
   "source": [
    "# Introdução"
   ]
  },
  {
   "cell_type": "markdown",
   "id": "4ac71c45",
   "metadata": {},
   "source": [
    "Neste notebook, criarei um modelo de rede neural capaz de classificar as imagens do dataset [Oxford-IIIT Pet Dataset](https://www.robots.ox.ac.uk/~vgg/data/pets) em cão ou gato. \n",
    "\n",
    "Utilizarei, majoritariamente, a biblioteca tensorflow+keras."
   ]
  },
  {
   "cell_type": "code",
   "execution_count": 19,
   "id": "53691bb9",
   "metadata": {},
   "outputs": [],
   "source": [
    "# importacao de bibliotecas necessarias\n",
    "\n",
    "# bibliotecas de redes neurais\n",
    "import tensorflow as tf\n",
    "from tensorflow import keras\n",
    "from keras.preprocessing import image\n",
    "from keras.utils.vis_utils import plot_model\n",
    "\n",
    "# bibliotecas de manipulacao de variaveis de ambiente e acesso a diretorios\n",
    "import os, warnings\n",
    "import glob\n",
    "\n",
    "# bibliotecas de manipulacao e visualizacao de dados\n",
    "import pandas as pd\n",
    "import numpy as np\n",
    "import matplotlib.pyplot as plt"
   ]
  },
  {
   "cell_type": "markdown",
   "id": "6cc72476",
   "metadata": {},
   "source": [
    "# Leitura do Dataset"
   ]
  },
  {
   "cell_type": "markdown",
   "id": "4f833c4f",
   "metadata": {},
   "source": [
    "Optei por realizar a leitura local do dataset em vez do uso de tensorflow_datasets.load() pois essa biblioteca estava gerando um erro em minha máquina."
   ]
  },
  {
   "cell_type": "code",
   "execution_count": 3,
   "id": "ba46e444",
   "metadata": {},
   "outputs": [],
   "source": [
    "dir_name='dataset/images/*' # define a pasta onde estao as imagens\n",
    "\n",
    "pets_files = glob.glob(dir_name)  # cria uma lista com o caminho dos arquivos encontrados dentro da pasta\n",
    "pets_df = pd.DataFrame(pets_files) # transforma a lista em dataframe"
   ]
  },
  {
   "cell_type": "code",
   "execution_count": 4,
   "id": "e9be8683",
   "metadata": {},
   "outputs": [],
   "source": [
    "pets_df.columns = ['full_path'] # renomeia a unica coluna do dataframe\n",
    "pets_df['file_name'] = pets_df['full_path'].str.split('\\\\').str[1] # cria uma coluna chamada 'file_name' \n",
    "# composta pelo nome dos arquivos"
   ]
  },
  {
   "cell_type": "markdown",
   "id": "b0d6bed8",
   "metadata": {},
   "source": [
    "Neste dataframe, conforme a documentação, arquivos que começam com letra maiúscula são imagens de gatos, enquanto arquivos que começam com letra minúscula são imagens de cachorros.\n",
    "\n",
    "Vamos, então, mapear o nome dos arquivos para definir as classes."
   ]
  },
  {
   "cell_type": "code",
   "execution_count": 5,
   "id": "1c1b8a81",
   "metadata": {},
   "outputs": [],
   "source": [
    "pets_df['label'] = pets_df['file_name'].str[0].str.isupper().map({True:'1', False:'0'}) # mapeia arquivo\n",
    "# com primeira letra maiuscula -> True = 1 = Gato, False = 0 = Cachorro"
   ]
  },
  {
   "cell_type": "code",
   "execution_count": 6,
   "id": "09c96b4e",
   "metadata": {},
   "outputs": [
    {
     "name": "stderr",
     "output_type": "stream",
     "text": [
      "C:\\Users\\Ferrazzo\\anaconda3\\envs\\tensorflorw\\lib\\site-packages\\keras_preprocessing\\image\\dataframe_iterator.py:279: UserWarning: Found 3 invalid image filename(s) in x_col=\"file_name\". These filename(s) will be ignored.\n",
      "  warnings.warn(\n"
     ]
    },
    {
     "name": "stdout",
     "output_type": "stream",
     "text": [
      "Found 5912 validated image filenames belonging to 2 classes.\n",
      "Found 1478 validated image filenames belonging to 2 classes.\n"
     ]
    },
    {
     "name": "stderr",
     "output_type": "stream",
     "text": [
      "C:\\Users\\Ferrazzo\\anaconda3\\envs\\tensorflorw\\lib\\site-packages\\keras_preprocessing\\image\\dataframe_iterator.py:279: UserWarning: Found 3 invalid image filename(s) in x_col=\"file_name\". These filename(s) will be ignored.\n",
      "  warnings.warn(\n"
     ]
    }
   ],
   "source": [
    "datagen = image.ImageDataGenerator(rescale=1/255., validation_split=0.2)\n",
    "# como vamos trabalhar com as cores das imagens, torna-se necessario normalizar os valores do canal RGB para 0 a 1, por isso\n",
    "# o argumento rescale=1/255\n",
    "\n",
    "# utilizaremos 20% do dataset como validacao, e os outros 80% como treino.\n",
    "\n",
    "train_generator = datagen.flow_from_dataframe(dataframe=pets_df.sample(pets_df.shape[0]), \n",
    "                                              directory= 'dataset/images',\n",
    "                                              x_col='file_name',\n",
    "                                              y_col='label',\n",
    "                                              target_size=(256,256), # retransformamos as imagens em 256x256pixels\n",
    "                                              class_mode='binary', # nossa classe é 0 ou 1, logo, binario.\n",
    "                                              shuffle=False,\n",
    "                                              subset='training'\n",
    "                                             )\n",
    "\n",
    "validation_generator = datagen.flow_from_dataframe(dataframe=pets_df.sample(pets_df.shape[0]), \n",
    "                                                   directory= 'dataset/images',\n",
    "                                                   x_col='file_name',\n",
    "                                                   y_col='label',\n",
    "                                                   target_size=(256,256),\n",
    "                                                   class_mode='binary',\n",
    "                                                   shuffle=False,\n",
    "                                                   subset='validation'\n",
    "                                             )\n",
    "\n",
    "\n",
    "# nao encontrei metodo para imprimir os arquivos que causam \n",
    "# \"UserWarning: Found 3 invalid image filename(s) in x_col=\"file_name\". These filename(s) will be ignored.\"\n",
    "# e, caso eu use validate_filenames=False, o modelo nao compila devido a esses arquivos com erro.\n",
    "# como a quantidade é baixa (6 contra 7390 validos), considerei irrelevante."
   ]
  },
  {
   "cell_type": "code",
   "execution_count": 11,
   "id": "1607083a",
   "metadata": {},
   "outputs": [
    {
     "name": "stdout",
     "output_type": "stream",
     "text": [
      "Nossa razao entre as classes é de  32.070365358592696%\n"
     ]
    }
   ],
   "source": [
    "# vamos verificar a distribuicao de classes\n",
    "\n",
    "ones_to_zeros_ratio_train = train_generator.__dict__['classes'].count(1)/len(train_generator.__dict__['classes'])\n",
    "print(f\"Nossa distribuicao de classes é de {ones_to_zeros_ratio_train * 100:.2}% no dataset de treino\")\n",
    "\n",
    "ones_to_zeros_ratio_validation = validation_generator.__dict__['classes'].count(1)/len(validation_generator.__dict__['classes'])\n",
    "print(f\"Nossa distribuicao de classes é de {ones_to_zeros_ratio_validation * 100:.2}% no dataset de treino\")"
   ]
  },
  {
   "cell_type": "markdown",
   "id": "9aa4d05a",
   "metadata": {},
   "source": [
    "Isso implica que nosso dataset está desbalanceado. Pois, de todas imagens de gatos e cachorros, apenas ~32% são imagens de gatos.\n",
    "\n",
    "Podemos, imaginar, então, que nosso modelo será melhor em predizer imagens de cachorros do que de gatos, pois teve uma carga de treino (e validação) maior em imagens de cachorros."
   ]
  },
  {
   "cell_type": "markdown",
   "id": "1a7e8861",
   "metadata": {},
   "source": [
    "# Modelo"
   ]
  },
  {
   "cell_type": "code",
   "execution_count": null,
   "id": "ca3afa6f",
   "metadata": {},
   "outputs": [],
   "source": []
  },
  {
   "cell_type": "code",
   "execution_count": 14,
   "id": "2bebae9b",
   "metadata": {},
   "outputs": [],
   "source": [
    "# durante algumas execucoes, meu modelo acabava estabilizando em uma acuracia nao ideal. \n",
    "# optei, entao, em deixar uma chamada para reduzir o Learning Rate (LR) atraves do metodo ReduceLROnPlateau\n",
    "# que reduz o LR quando alguma metrica do modelo estabiliza\n",
    "\n",
    "reduce_lr = tf.keras.callbacks.ReduceLROnPlateau(monitor='val_loss', # qual metrica sera monitorada\n",
    "                              factor=0.2, # fator de multiplicacao (no caso reducao) do learning rate\n",
    "                              patience=5, # quantas epocas esperamos o \"plateau\"\n",
    "                              min_lr=0.001 # menor learning rate possivel\n",
    "                                )"
   ]
  },
  {
   "cell_type": "code",
   "execution_count": 13,
   "id": "0933b5c7",
   "metadata": {
    "scrolled": true
   },
   "outputs": [
    {
     "name": "stdout",
     "output_type": "stream",
     "text": [
      "Epoch 1/80\n",
      "185/185 [==============================] - 47s 247ms/step - loss: 0.6206 - accuracy: 0.6791 - val_loss: 0.6065 - val_accuracy: 0.6725\n",
      "Epoch 2/80\n",
      "185/185 [==============================] - 45s 242ms/step - loss: 0.6074 - accuracy: 0.6790 - val_loss: 0.6041 - val_accuracy: 0.6725\n",
      "Epoch 3/80\n",
      "185/185 [==============================] - 39s 209ms/step - loss: 0.5972 - accuracy: 0.6801 - val_loss: 0.5868 - val_accuracy: 0.6732\n",
      "Epoch 4/80\n",
      "185/185 [==============================] - 39s 210ms/step - loss: 0.5882 - accuracy: 0.6847 - val_loss: 0.5874 - val_accuracy: 0.6806\n",
      "Epoch 5/80\n",
      "185/185 [==============================] - 37s 202ms/step - loss: 0.5841 - accuracy: 0.6903 - val_loss: 0.5746 - val_accuracy: 0.6982\n",
      "Epoch 6/80\n",
      "185/185 [==============================] - 37s 199ms/step - loss: 0.5702 - accuracy: 0.6947 - val_loss: 0.5683 - val_accuracy: 0.6746\n",
      "Epoch 7/80\n",
      "185/185 [==============================] - 39s 209ms/step - loss: 0.5632 - accuracy: 0.7040 - val_loss: 0.5469 - val_accuracy: 0.7091\n",
      "Epoch 8/80\n",
      "185/185 [==============================] - 38s 207ms/step - loss: 0.5430 - accuracy: 0.7194 - val_loss: 0.5817 - val_accuracy: 0.7064\n",
      "Epoch 9/80\n",
      "185/185 [==============================] - 38s 205ms/step - loss: 0.5262 - accuracy: 0.7373 - val_loss: 0.5185 - val_accuracy: 0.7138\n",
      "Epoch 10/80\n",
      "185/185 [==============================] - 42s 226ms/step - loss: 0.5074 - accuracy: 0.7510 - val_loss: 0.4977 - val_accuracy: 0.7727\n",
      "Epoch 11/80\n",
      "185/185 [==============================] - 44s 240ms/step - loss: 0.4924 - accuracy: 0.7539 - val_loss: 0.5333 - val_accuracy: 0.7138\n",
      "Epoch 12/80\n",
      "185/185 [==============================] - 47s 254ms/step - loss: 0.4662 - accuracy: 0.7747 - val_loss: 0.4773 - val_accuracy: 0.7909\n",
      "Epoch 13/80\n",
      "185/185 [==============================] - 51s 276ms/step - loss: 0.4595 - accuracy: 0.7744 - val_loss: 0.4463 - val_accuracy: 0.7747\n",
      "Epoch 14/80\n",
      "185/185 [==============================] - 47s 253ms/step - loss: 0.4402 - accuracy: 0.7955 - val_loss: 0.4168 - val_accuracy: 0.8139\n",
      "Epoch 15/80\n",
      "185/185 [==============================] - 40s 215ms/step - loss: 0.4268 - accuracy: 0.7921 - val_loss: 0.4071 - val_accuracy: 0.8221\n",
      "Epoch 16/80\n",
      "185/185 [==============================] - 39s 213ms/step - loss: 0.4017 - accuracy: 0.8163 - val_loss: 0.3993 - val_accuracy: 0.8390\n",
      "Epoch 17/80\n",
      "185/185 [==============================] - 47s 256ms/step - loss: 0.3929 - accuracy: 0.8150 - val_loss: 0.4141 - val_accuracy: 0.7930\n",
      "Epoch 18/80\n",
      "185/185 [==============================] - 39s 211ms/step - loss: 0.3767 - accuracy: 0.8312 - val_loss: 0.3588 - val_accuracy: 0.8559\n",
      "Epoch 19/80\n",
      "185/185 [==============================] - 39s 210ms/step - loss: 0.3519 - accuracy: 0.8381 - val_loss: 0.3830 - val_accuracy: 0.8194\n",
      "Epoch 20/80\n",
      "185/185 [==============================] - 40s 217ms/step - loss: 0.3358 - accuracy: 0.8505 - val_loss: 0.6764 - val_accuracy: 0.6522\n",
      "Epoch 21/80\n",
      "185/185 [==============================] - 38s 208ms/step - loss: 0.3300 - accuracy: 0.8542 - val_loss: 0.3674 - val_accuracy: 0.8396\n",
      "Epoch 22/80\n",
      "185/185 [==============================] - 39s 210ms/step - loss: 0.3094 - accuracy: 0.8650 - val_loss: 0.3857 - val_accuracy: 0.8166\n",
      "Epoch 23/80\n",
      "185/185 [==============================] - 39s 211ms/step - loss: 0.2913 - accuracy: 0.8780 - val_loss: 0.4531 - val_accuracy: 0.7930\n",
      "Epoch 24/80\n",
      "185/185 [==============================] - 39s 209ms/step - loss: 0.2298 - accuracy: 0.9151 - val_loss: 0.2963 - val_accuracy: 0.8917\n",
      "Epoch 25/80\n",
      "185/185 [==============================] - 39s 210ms/step - loss: 0.2222 - accuracy: 0.9142 - val_loss: 0.2854 - val_accuracy: 0.8958\n",
      "Epoch 26/80\n",
      "185/185 [==============================] - 38s 205ms/step - loss: 0.2190 - accuracy: 0.9191 - val_loss: 0.2783 - val_accuracy: 0.8985\n",
      "Epoch 27/80\n",
      "185/185 [==============================] - 39s 210ms/step - loss: 0.2102 - accuracy: 0.9229 - val_loss: 0.2739 - val_accuracy: 0.9026\n",
      "Epoch 28/80\n",
      "185/185 [==============================] - 41s 224ms/step - loss: 0.2104 - accuracy: 0.9222 - val_loss: 0.2729 - val_accuracy: 0.9032\n",
      "Epoch 29/80\n",
      "185/185 [==============================] - 40s 217ms/step - loss: 0.2028 - accuracy: 0.9269 - val_loss: 0.2715 - val_accuracy: 0.9032\n",
      "Epoch 30/80\n",
      "185/185 [==============================] - 40s 217ms/step - loss: 0.2004 - accuracy: 0.9285 - val_loss: 0.2648 - val_accuracy: 0.9060\n",
      "Epoch 31/80\n",
      "185/185 [==============================] - 41s 219ms/step - loss: 0.1977 - accuracy: 0.9317 - val_loss: 0.2664 - val_accuracy: 0.9120\n",
      "Epoch 32/80\n",
      "185/185 [==============================] - 39s 210ms/step - loss: 0.1906 - accuracy: 0.9323 - val_loss: 0.2682 - val_accuracy: 0.9080\n",
      "Epoch 33/80\n",
      "185/185 [==============================] - 40s 215ms/step - loss: 0.1874 - accuracy: 0.9317 - val_loss: 0.2605 - val_accuracy: 0.9134\n",
      "Epoch 34/80\n",
      "185/185 [==============================] - 41s 220ms/step - loss: 0.1875 - accuracy: 0.9347 - val_loss: 0.2561 - val_accuracy: 0.9202\n",
      "Epoch 35/80\n",
      "185/185 [==============================] - 42s 229ms/step - loss: 0.1832 - accuracy: 0.9347 - val_loss: 0.2545 - val_accuracy: 0.9215\n",
      "Epoch 36/80\n",
      "185/185 [==============================] - 43s 230ms/step - loss: 0.1784 - accuracy: 0.9398 - val_loss: 0.2532 - val_accuracy: 0.9235\n",
      "Epoch 37/80\n",
      "185/185 [==============================] - 43s 233ms/step - loss: 0.1755 - accuracy: 0.9389 - val_loss: 0.2468 - val_accuracy: 0.9263\n",
      "Epoch 38/80\n",
      "185/185 [==============================] - 41s 223ms/step - loss: 0.1754 - accuracy: 0.9396 - val_loss: 0.2435 - val_accuracy: 0.9269\n",
      "Epoch 39/80\n",
      "185/185 [==============================] - 44s 237ms/step - loss: 0.1700 - accuracy: 0.9418 - val_loss: 0.2465 - val_accuracy: 0.9276\n",
      "Epoch 40/80\n",
      "185/185 [==============================] - 42s 227ms/step - loss: 0.1680 - accuracy: 0.9428 - val_loss: 0.2542 - val_accuracy: 0.9141\n",
      "Epoch 41/80\n",
      "185/185 [==============================] - 42s 228ms/step - loss: 0.1650 - accuracy: 0.9408 - val_loss: 0.2457 - val_accuracy: 0.9256\n",
      "Epoch 42/80\n",
      "185/185 [==============================] - 39s 213ms/step - loss: 0.1575 - accuracy: 0.9472 - val_loss: 0.2426 - val_accuracy: 0.9269\n",
      "Epoch 43/80\n",
      "185/185 [==============================] - 44s 236ms/step - loss: 0.1550 - accuracy: 0.9496 - val_loss: 0.2407 - val_accuracy: 0.9249\n",
      "Epoch 44/80\n",
      "185/185 [==============================] - 43s 232ms/step - loss: 0.1530 - accuracy: 0.9477 - val_loss: 0.2324 - val_accuracy: 0.9317\n",
      "Epoch 45/80\n",
      "185/185 [==============================] - 43s 233ms/step - loss: 0.1549 - accuracy: 0.9499 - val_loss: 0.2352 - val_accuracy: 0.9303\n",
      "Epoch 46/80\n",
      "185/185 [==============================] - 41s 220ms/step - loss: 0.1486 - accuracy: 0.9520 - val_loss: 0.2418 - val_accuracy: 0.9283\n",
      "Epoch 47/80\n",
      "185/185 [==============================] - 43s 234ms/step - loss: 0.1428 - accuracy: 0.9537 - val_loss: 0.2326 - val_accuracy: 0.9344\n",
      "Epoch 48/80\n",
      "185/185 [==============================] - 57s 306ms/step - loss: 0.1439 - accuracy: 0.9553 - val_loss: 0.2404 - val_accuracy: 0.9357\n",
      "Epoch 49/80\n",
      "185/185 [==============================] - 55s 299ms/step - loss: 0.1400 - accuracy: 0.9535 - val_loss: 0.2345 - val_accuracy: 0.9323\n",
      "Epoch 50/80\n",
      "185/185 [==============================] - 56s 303ms/step - loss: 0.1328 - accuracy: 0.9611 - val_loss: 0.2317 - val_accuracy: 0.9378\n",
      "Epoch 51/80\n",
      "185/185 [==============================] - 55s 297ms/step - loss: 0.1325 - accuracy: 0.9606 - val_loss: 0.2256 - val_accuracy: 0.9391\n",
      "Epoch 52/80\n",
      "185/185 [==============================] - 55s 299ms/step - loss: 0.1306 - accuracy: 0.9613 - val_loss: 0.2248 - val_accuracy: 0.9398\n",
      "Epoch 53/80\n",
      "185/185 [==============================] - 59s 319ms/step - loss: 0.1285 - accuracy: 0.9614 - val_loss: 0.2275 - val_accuracy: 0.9384\n",
      "Epoch 54/80\n",
      "185/185 [==============================] - 58s 314ms/step - loss: 0.1270 - accuracy: 0.9630 - val_loss: 0.2254 - val_accuracy: 0.9391\n",
      "Epoch 55/80\n",
      "185/185 [==============================] - 56s 305ms/step - loss: 0.1288 - accuracy: 0.9633 - val_loss: 0.2269 - val_accuracy: 0.9398\n",
      "Epoch 56/80\n",
      "185/185 [==============================] - 57s 306ms/step - loss: 0.1255 - accuracy: 0.9657 - val_loss: 0.2261 - val_accuracy: 0.9398\n",
      "Epoch 57/80\n"
     ]
    },
    {
     "name": "stdout",
     "output_type": "stream",
     "text": [
      "185/185 [==============================] - 57s 308ms/step - loss: 0.1280 - accuracy: 0.9603 - val_loss: 0.2273 - val_accuracy: 0.9384\n",
      "Epoch 58/80\n",
      "185/185 [==============================] - 57s 309ms/step - loss: 0.1265 - accuracy: 0.9636 - val_loss: 0.2274 - val_accuracy: 0.9398\n",
      "Epoch 59/80\n",
      "185/185 [==============================] - 58s 314ms/step - loss: 0.1260 - accuracy: 0.9630 - val_loss: 0.2267 - val_accuracy: 0.9398\n",
      "Epoch 60/80\n",
      "185/185 [==============================] - 57s 307ms/step - loss: 0.1241 - accuracy: 0.9652 - val_loss: 0.2255 - val_accuracy: 0.9425\n",
      "Epoch 61/80\n",
      "185/185 [==============================] - 56s 303ms/step - loss: 0.1226 - accuracy: 0.9643 - val_loss: 0.2250 - val_accuracy: 0.9418\n",
      "Epoch 62/80\n",
      "185/185 [==============================] - 56s 302ms/step - loss: 0.1262 - accuracy: 0.9604 - val_loss: 0.2232 - val_accuracy: 0.9425\n",
      "Epoch 63/80\n",
      "185/185 [==============================] - 56s 301ms/step - loss: 0.1234 - accuracy: 0.9624 - val_loss: 0.2256 - val_accuracy: 0.9405\n",
      "Epoch 64/80\n",
      "185/185 [==============================] - 56s 303ms/step - loss: 0.1210 - accuracy: 0.9663 - val_loss: 0.2248 - val_accuracy: 0.9418\n",
      "Epoch 65/80\n",
      "185/185 [==============================] - 56s 304ms/step - loss: 0.1188 - accuracy: 0.9657 - val_loss: 0.2281 - val_accuracy: 0.9405\n",
      "Epoch 66/80\n",
      "185/185 [==============================] - 53s 289ms/step - loss: 0.1186 - accuracy: 0.9663 - val_loss: 0.2310 - val_accuracy: 0.9391\n",
      "Epoch 67/80\n",
      "185/185 [==============================] - 57s 307ms/step - loss: 0.1185 - accuracy: 0.9658 - val_loss: 0.2247 - val_accuracy: 0.9432\n",
      "Epoch 68/80\n",
      "185/185 [==============================] - 56s 304ms/step - loss: 0.1179 - accuracy: 0.9652 - val_loss: 0.2252 - val_accuracy: 0.9425\n",
      "Epoch 69/80\n",
      "185/185 [==============================] - 56s 300ms/step - loss: 0.1172 - accuracy: 0.9657 - val_loss: 0.2211 - val_accuracy: 0.9425\n",
      "Epoch 70/80\n",
      "185/185 [==============================] - 56s 303ms/step - loss: 0.1162 - accuracy: 0.9685 - val_loss: 0.2239 - val_accuracy: 0.9418\n",
      "Epoch 71/80\n",
      "185/185 [==============================] - 58s 311ms/step - loss: 0.1201 - accuracy: 0.9653 - val_loss: 0.2253 - val_accuracy: 0.9418\n",
      "Epoch 72/80\n",
      "185/185 [==============================] - 58s 312ms/step - loss: 0.1206 - accuracy: 0.9643 - val_loss: 0.2197 - val_accuracy: 0.9438\n",
      "Epoch 73/80\n",
      "185/185 [==============================] - 57s 309ms/step - loss: 0.1161 - accuracy: 0.9665 - val_loss: 0.2208 - val_accuracy: 0.9432\n",
      "Epoch 74/80\n",
      "185/185 [==============================] - 55s 299ms/step - loss: 0.1147 - accuracy: 0.9701 - val_loss: 0.2228 - val_accuracy: 0.9445\n",
      "Epoch 75/80\n",
      "185/185 [==============================] - 56s 305ms/step - loss: 0.1130 - accuracy: 0.9697 - val_loss: 0.2204 - val_accuracy: 0.9445\n",
      "Epoch 76/80\n",
      "185/185 [==============================] - 55s 299ms/step - loss: 0.1127 - accuracy: 0.9697 - val_loss: 0.2212 - val_accuracy: 0.9438\n",
      "Epoch 77/80\n",
      "185/185 [==============================] - 58s 314ms/step - loss: 0.1114 - accuracy: 0.9718 - val_loss: 0.2196 - val_accuracy: 0.9445\n",
      "Epoch 78/80\n",
      "185/185 [==============================] - 56s 300ms/step - loss: 0.1155 - accuracy: 0.9658 - val_loss: 0.2220 - val_accuracy: 0.9438\n",
      "Epoch 79/80\n",
      "185/185 [==============================] - 55s 298ms/step - loss: 0.1097 - accuracy: 0.9726 - val_loss: 0.2208 - val_accuracy: 0.9452\n",
      "Epoch 80/80\n",
      "185/185 [==============================] - 56s 304ms/step - loss: 0.1119 - accuracy: 0.9696 - val_loss: 0.2180 - val_accuracy: 0.9425\n"
     ]
    }
   ],
   "source": [
    "model =  keras.Sequential([\n",
    "    keras.layers.Conv2D(32,5,5, padding='same', activation='relu'),\n",
    "    keras.layers.MaxPooling2D(pool_size=(2,2), padding='same'),\n",
    "    keras.layers.Dropout(0.2),\n",
    "    keras.layers.Flatten(),\n",
    "    keras.layers.Dense(32, activation='relu'), \n",
    "    keras.layers.Dense(1, activation='sigmoid')\n",
    "])\n",
    "\n",
    "optimizer = tf.keras.optimizers.SGD(learning_rate=0.02) \n",
    "# iniciamos com 0.02 de LR, e reduziremos com ReduceLROnPlateau caso necessario\n",
    "\n",
    "model.compile(optimizer=optimizer, loss='BinaryCrossentropy', metrics=['accuracy'])\n",
    "\n",
    "model_performance = model.fit(train_generator, \n",
    "                              validation_data= validation_generator, \n",
    "                              callbacks=[reduce_lr], \n",
    "                              epochs=80)\n"
   ]
  },
  {
   "cell_type": "code",
   "execution_count": 21,
   "id": "9c3f561d",
   "metadata": {},
   "outputs": [
    {
     "name": "stdout",
     "output_type": "stream",
     "text": [
      "INFO:tensorflow:Assets written to: models/94_val_acc_01_02_22\\assets\n"
     ]
    }
   ],
   "source": [
    "folder = 'models/94_val_acc_01_02_22'\n",
    "model.save(folder)\n",
    "pd.DataFrame.from_dict(model_performance.history).to_csv(folder + '/history.csv',index=False)"
   ]
  },
  {
   "cell_type": "code",
   "execution_count": 31,
   "id": "c06c2f5f",
   "metadata": {},
   "outputs": [
    {
     "name": "stdout",
     "output_type": "stream",
     "text": [
      "('You must install pydot (`pip install pydot`) and install graphviz (see instructions at https://graphviz.gitlab.io/download/) ', 'for plot_model/model_to_dot to work.')\n"
     ]
    }
   ],
   "source": [
    "plot_model(model, \n",
    "           to_file=folder + 'model_plot.jpg', \n",
    "           show_shapes=True, \n",
    "           show_layer_names=True)"
   ]
  },
  {
   "cell_type": "markdown",
   "id": "c61f7aa0",
   "metadata": {},
   "source": [
    "# Análise das métricas"
   ]
  },
  {
   "cell_type": "code",
   "execution_count": 15,
   "id": "bf1d564f",
   "metadata": {},
   "outputs": [
    {
     "data": {
      "text/plain": [
       "<matplotlib.legend.Legend at 0x241fef1d340>"
      ]
     },
     "execution_count": 15,
     "metadata": {},
     "output_type": "execute_result"
    },
    {
     "data": {
      "image/png": "[encoded data removed]",
      "text/plain": [
       "<Figure size 432x288 with 1 Axes>"
      ]
     },
     "metadata": {
      "needs_background": "light"
     },
     "output_type": "display_data"
    }
   ],
   "source": [
    "# Plot da acuracia de treino e validacao\n",
    "plt.plot(model_performance.history['accuracy'])\n",
    "plt.plot(model_performance.history['val_accuracy'])\n",
    "plt.title('Accuracy by epochs')\n",
    "plt.legend(['train', 'validation'])"
   ]
  },
  {
   "cell_type": "code",
   "execution_count": 16,
   "id": "94f2845b",
   "metadata": {},
   "outputs": [
    {
     "data": {
      "text/plain": [
       "<matplotlib.legend.Legend at 0x24200efa520>"
      ]
     },
     "execution_count": 16,
     "metadata": {},
     "output_type": "execute_result"
    },
    {
     "data": {
      "image/png": "[encoded data removed]",
      "text/plain": [
       "<Figure size 432x288 with 1 Axes>"
      ]
     },
     "metadata": {
      "needs_background": "light"
     },
     "output_type": "display_data"
    }
   ],
   "source": [
    "# Plot da perda de treino e validacao\n",
    "plt.plot(model_performance.history['loss'])\n",
    "plt.plot(model_performance.history['val_loss'])\n",
    "plt.title('Loss by epochs')\n",
    "plt.legend(['train', 'validation'])"
   ]
  },
  {
   "cell_type": "code",
   "execution_count": 17,
   "id": "e2d75407",
   "metadata": {},
   "outputs": [
    {
     "data": {
      "text/plain": [
       "<matplotlib.legend.Legend at 0x24204accac0>"
      ]
     },
     "execution_count": 17,
     "metadata": {},
     "output_type": "execute_result"
    },
    {
     "data": {
      "image/png": "[encoded data removed]",
      "text/plain": [
       "<Figure size 432x288 with 1 Axes>"
      ]
     },
     "metadata": {
      "needs_background": "light"
     },
     "output_type": "display_data"
    }
   ],
   "source": [
    "# Plot da variacao do Learning Rate\n",
    "plt.plot(model_performance.history['lr'])\n",
    "plt.title('Learning Rate by Epochs')\n",
    "plt.legend(['train'])"
   ]
  },
  {
   "cell_type": "code",
   "execution_count": 32,
   "id": "f8742de1",
   "metadata": {},
   "outputs": [],
   "source": [
    "# matriz de confusao\n",
    "train_pred = model.predict(validation_generator)\n",
    "confus_matrix = tf.math.confusion_matrix(labels=validation_generator.__dict__['classes'], predictions=train_pred.ravel()>0.5)"
   ]
  },
  {
   "cell_type": "code",
   "execution_count": 33,
   "id": "1f32f0d6",
   "metadata": {},
   "outputs": [
    {
     "data": {
      "text/plain": [
       "<tf.Tensor: shape=(2, 2), dtype=int32, numpy=\n",
       "array([[956,  38],\n",
       "       [ 47, 437]])>"
      ]
     },
     "execution_count": 33,
     "metadata": {},
     "output_type": "execute_result"
    }
   ],
   "source": [
    "confus_matrix"
   ]
  },
  {
   "cell_type": "code",
   "execution_count": null,
   "id": "7c6d8e5a",
   "metadata": {},
   "outputs": [],
   "source": [
    "# adicionar o plot do modelo\n",
    "# explicar o modelo\n",
    "# tirar insights das metricas\n",
    "# adicionar breves explicacoes no notebook de teste de imagens da web."
   ]
  }
 ],
 "metadata": {
  "kernelspec": {
   "display_name": "Python 3 (ipykernel)",
   "language": "python",
   "name": "python3"
  },
  "language_info": {
   "codemirror_mode": {
    "name": "ipython",
    "version": 3
   },
   "file_extension": ".py",
   "mimetype": "text/x-python",
   "name": "python",
   "nbconvert_exporter": "python",
   "pygments_lexer": "ipython3",
   "version": "3.9.7"
  }
 },
 "nbformat": 4,
 "nbformat_minor": 5
}
