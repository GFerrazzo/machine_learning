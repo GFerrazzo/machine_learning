{
 "cells": [
  {
   "cell_type": "code",
   "execution_count": 1,
   "id": "4a396672",
   "metadata": {},
   "outputs": [
    {
     "name": "stdout",
     "output_type": "stream",
     "text": [
      "INFO:tensorflow:Using MirroredStrategy with devices ('/job:localhost/replica:0/task:0/device:GPU:0',)\n"
     ]
    },
    {
     "data": {
      "text/plain": [
       "<tensorflow.python.distribute.mirrored_strategy.MirroredStrategy at 0x1a35433b0d0>"
      ]
     },
     "execution_count": 1,
     "metadata": {},
     "output_type": "execute_result"
    }
   ],
   "source": [
    "import tensorflow as tf\n",
    "from tensorflow import keras\n",
    "import matplotlib.pyplot as plt\n",
    "import os, warnings\n",
    "import numpy as np\n",
    "import pandas as pd\n",
    "from keras.preprocessing import image\n",
    "import glob\n",
    "\n",
    "# Reproducability\n",
    "def set_seed(seed=31415):\n",
    "    np.random.seed(seed)\n",
    "    tf.random.set_seed(seed)\n",
    "    os.environ['PYTHONHASHSEED'] = str(seed)\n",
    "#     os.environ['TF_DETERMINISTIC_OPS'] = '1'\n",
    "set_seed()\n",
    "\n",
    "tf.distribute.MirroredStrategy(\n",
    "    devices=None, cross_device_ops=None\n",
    ")"
   ]
  },
  {
   "cell_type": "code",
   "execution_count": 2,
   "id": "ba46e444",
   "metadata": {},
   "outputs": [],
   "source": [
    "dir_name='dataset/images/*'\n",
    "\n",
    "pets_files = glob.glob(dir_name) \n",
    "pets_df = pd.DataFrame(pets_files)"
   ]
  },
  {
   "cell_type": "code",
   "execution_count": 3,
   "id": "e9be8683",
   "metadata": {},
   "outputs": [],
   "source": [
    "pets_df.columns =['full_path']\n",
    "pets_df['file_name'] = pets_df['full_path'].str.split('\\\\').str[1]"
   ]
  },
  {
   "cell_type": "code",
   "execution_count": 4,
   "id": "1c1b8a81",
   "metadata": {},
   "outputs": [],
   "source": [
    "# labels in this dataset are in the file name\n",
    "pets_df['label'] = pets_df['file_name'].str[0].str.isupper().map({True:'1', False:'0'})"
   ]
  },
  {
   "cell_type": "code",
   "execution_count": 62,
   "id": "09c96b4e",
   "metadata": {},
   "outputs": [
    {
     "name": "stderr",
     "output_type": "stream",
     "text": [
      "C:\\Users\\Ferrazzo\\anaconda3\\envs\\tensorflorw\\lib\\site-packages\\keras_preprocessing\\image\\dataframe_iterator.py:279: UserWarning: Found 3 invalid image filename(s) in x_col=\"file_name\". These filename(s) will be ignored.\n",
      "  warnings.warn(\n"
     ]
    },
    {
     "name": "stdout",
     "output_type": "stream",
     "text": [
      "Found 5912 validated image filenames belonging to 2 classes.\n",
      "Found 1478 validated image filenames belonging to 2 classes.\n"
     ]
    },
    {
     "name": "stderr",
     "output_type": "stream",
     "text": [
      "C:\\Users\\Ferrazzo\\anaconda3\\envs\\tensorflorw\\lib\\site-packages\\keras_preprocessing\\image\\dataframe_iterator.py:279: UserWarning: Found 3 invalid image filename(s) in x_col=\"file_name\". These filename(s) will be ignored.\n",
      "  warnings.warn(\n"
     ]
    }
   ],
   "source": [
    "datagen = image.ImageDataGenerator(rescale=1/255., validation_split=0.2)\n",
    "\n",
    "#ultima alteracao: removi o .sample do pets_df e suffle=False.\n",
    "\n",
    "train_generator = datagen.flow_from_dataframe(dataframe=pets_df, \n",
    "                                              directory= 'dataset/images',\n",
    "                                              x_col='file_name',\n",
    "                                              y_col='label',\n",
    "                                              target_size=(256,256),\n",
    "                                              class_mode='binary',\n",
    "                                              batches=200,\n",
    "                                              shuffle=False,\n",
    "                                              subset='training'\n",
    "                                             )\n",
    "\n",
    "validation_generator = datagen.flow_from_dataframe(dataframe=pets_df, \n",
    "                                                   directory= 'dataset/images',\n",
    "                                                   x_col='file_name',\n",
    "                                                   y_col='label',\n",
    "                                                   target_size=(256,256),\n",
    "                                                   class_mode='binary',\n",
    "                                                   subset='validation', \n",
    "                                                   batches=200,\n",
    "                                                   shuffle=False,\n",
    "                                                   seed=7\n",
    "                                             )"
   ]
  },
  {
   "cell_type": "code",
   "execution_count": 6,
   "id": "1607083a",
   "metadata": {},
   "outputs": [
    {
     "data": {
      "text/plain": [
       "0.4887937547217326"
      ]
     },
     "execution_count": 6,
     "metadata": {},
     "output_type": "execute_result"
    }
   ],
   "source": [
    "train_generator.__dict__['classes'].count(1)/len(train_generator.__dict__['classes'])"
   ]
  },
  {
   "cell_type": "code",
   "execution_count": 7,
   "id": "2bebae9b",
   "metadata": {},
   "outputs": [],
   "source": [
    "reduce_lr = tf.keras.callbacks.ReduceLROnPlateau(monitor='val_loss', \n",
    "                              factor=0.2,\n",
    "                              patience=5, \n",
    "                              min_lr=0.001)"
   ]
  },
  {
   "cell_type": "code",
   "execution_count": 8,
   "id": "0933b5c7",
   "metadata": {
    "scrolled": true
   },
   "outputs": [
    {
     "name": "stdout",
     "output_type": "stream",
     "text": [
      "Epoch 1/50\n",
      "185/185 [==============================] - 41s 217ms/step - loss: 0.6245 - accuracy: 0.6703 - val_loss: 0.6127 - val_accuracy: 0.6766\n",
      "Epoch 2/50\n",
      "185/185 [==============================] - 40s 218ms/step - loss: 0.6091 - accuracy: 0.6729 - val_loss: 0.6102 - val_accuracy: 0.6773\n",
      "Epoch 3/50\n",
      "185/185 [==============================] - 47s 252ms/step - loss: 0.6073 - accuracy: 0.6749 - val_loss: 0.6357 - val_accuracy: 0.6766\n",
      "Epoch 4/50\n",
      "185/185 [==============================] - 48s 261ms/step - loss: 0.5981 - accuracy: 0.6747 - val_loss: 0.5893 - val_accuracy: 0.6854\n",
      "Epoch 5/50\n",
      "185/185 [==============================] - 51s 274ms/step - loss: 0.5899 - accuracy: 0.6842 - val_loss: 0.5811 - val_accuracy: 0.6874\n",
      "Epoch 6/50\n",
      "185/185 [==============================] - 56s 303ms/step - loss: 0.5830 - accuracy: 0.6894 - val_loss: 0.5664 - val_accuracy: 0.6874\n",
      "Epoch 7/50\n",
      "185/185 [==============================] - 63s 339ms/step - loss: 0.5629 - accuracy: 0.7033 - val_loss: 0.5504 - val_accuracy: 0.6935\n",
      "Epoch 8/50\n",
      "185/185 [==============================] - 70s 376ms/step - loss: 0.5465 - accuracy: 0.7224 - val_loss: 0.5464 - val_accuracy: 0.7057\n",
      "Epoch 9/50\n",
      "185/185 [==============================] - 55s 298ms/step - loss: 0.5265 - accuracy: 0.7334 - val_loss: 0.5201 - val_accuracy: 0.7693\n",
      "Epoch 10/50\n",
      "185/185 [==============================] - 58s 310ms/step - loss: 0.5064 - accuracy: 0.7546 - val_loss: 0.4921 - val_accuracy: 0.7747\n",
      "Epoch 11/50\n",
      "185/185 [==============================] - 51s 278ms/step - loss: 0.4940 - accuracy: 0.7578 - val_loss: 0.4801 - val_accuracy: 0.7882\n",
      "Epoch 12/50\n",
      "185/185 [==============================] - 47s 255ms/step - loss: 0.4745 - accuracy: 0.7745 - val_loss: 0.4579 - val_accuracy: 0.7869\n",
      "Epoch 13/50\n",
      "185/185 [==============================] - 47s 255ms/step - loss: 0.4524 - accuracy: 0.7865 - val_loss: 0.4473 - val_accuracy: 0.7855\n",
      "Epoch 14/50\n",
      "185/185 [==============================] - 42s 228ms/step - loss: 0.4425 - accuracy: 0.7884 - val_loss: 0.4203 - val_accuracy: 0.8281\n",
      "Epoch 15/50\n",
      "185/185 [==============================] - 47s 254ms/step - loss: 0.4312 - accuracy: 0.7953 - val_loss: 0.4274 - val_accuracy: 0.8241\n",
      "Epoch 16/50\n",
      "185/185 [==============================] - 53s 288ms/step - loss: 0.4004 - accuracy: 0.8129 - val_loss: 0.4324 - val_accuracy: 0.7740\n",
      "Epoch 17/50\n",
      "185/185 [==============================] - 45s 241ms/step - loss: 0.3996 - accuracy: 0.8151 - val_loss: 0.5047 - val_accuracy: 0.7436\n",
      "Epoch 18/50\n",
      "185/185 [==============================] - 48s 258ms/step - loss: 0.3748 - accuracy: 0.8310 - val_loss: 0.4083 - val_accuracy: 0.8295\n",
      "Epoch 19/50\n",
      "185/185 [==============================] - 45s 246ms/step - loss: 0.3600 - accuracy: 0.8390 - val_loss: 0.4081 - val_accuracy: 0.8187\n",
      "Epoch 20/50\n",
      "185/185 [==============================] - 44s 239ms/step - loss: 0.3485 - accuracy: 0.8402 - val_loss: 0.3380 - val_accuracy: 0.8687\n",
      "Epoch 21/50\n",
      "185/185 [==============================] - 49s 263ms/step - loss: 0.3270 - accuracy: 0.8596 - val_loss: 0.3267 - val_accuracy: 0.8823\n",
      "Epoch 22/50\n",
      "185/185 [==============================] - 45s 241ms/step - loss: 0.3020 - accuracy: 0.8748 - val_loss: 0.3074 - val_accuracy: 0.8769\n",
      "Epoch 23/50\n",
      "185/185 [==============================] - 49s 265ms/step - loss: 0.2928 - accuracy: 0.8769 - val_loss: 0.4180 - val_accuracy: 0.8119\n",
      "Epoch 24/50\n",
      "185/185 [==============================] - 47s 256ms/step - loss: 0.2814 - accuracy: 0.8811 - val_loss: 0.3220 - val_accuracy: 0.8796\n",
      "Epoch 25/50\n",
      "185/185 [==============================] - 40s 214ms/step - loss: 0.2638 - accuracy: 0.8885 - val_loss: 0.2735 - val_accuracy: 0.9026\n",
      "Epoch 26/50\n",
      "185/185 [==============================] - 46s 246ms/step - loss: 0.2487 - accuracy: 0.8990 - val_loss: 0.2840 - val_accuracy: 0.9046\n",
      "Epoch 27/50\n",
      "185/185 [==============================] - 46s 247ms/step - loss: 0.2351 - accuracy: 0.9061 - val_loss: 0.2648 - val_accuracy: 0.9107\n",
      "Epoch 28/50\n",
      "185/185 [==============================] - 47s 255ms/step - loss: 0.2206 - accuracy: 0.9102 - val_loss: 0.2811 - val_accuracy: 0.8789\n",
      "Epoch 29/50\n",
      "185/185 [==============================] - 38s 208ms/step - loss: 0.2033 - accuracy: 0.9186 - val_loss: 0.2980 - val_accuracy: 0.8890\n",
      "Epoch 30/50\n",
      "185/185 [==============================] - 46s 247ms/step - loss: 0.1897 - accuracy: 0.9239 - val_loss: 0.2556 - val_accuracy: 0.9039\n",
      "Epoch 31/50\n",
      "185/185 [==============================] - 46s 247ms/step - loss: 0.1839 - accuracy: 0.9320 - val_loss: 0.2857 - val_accuracy: 0.8884\n",
      "Epoch 32/50\n",
      "185/185 [==============================] - 44s 237ms/step - loss: 0.1645 - accuracy: 0.9359 - val_loss: 0.2500 - val_accuracy: 0.9127\n",
      "Epoch 33/50\n",
      "185/185 [==============================] - 40s 215ms/step - loss: 0.1482 - accuracy: 0.9457 - val_loss: 0.2309 - val_accuracy: 0.9330\n",
      "Epoch 34/50\n",
      "185/185 [==============================] - 47s 257ms/step - loss: 0.1487 - accuracy: 0.9452 - val_loss: 0.2326 - val_accuracy: 0.9330\n",
      "Epoch 35/50\n",
      "185/185 [==============================] - 38s 207ms/step - loss: 0.1340 - accuracy: 0.9530 - val_loss: 0.2190 - val_accuracy: 0.9378\n",
      "Epoch 36/50\n",
      "185/185 [==============================] - 54s 291ms/step - loss: 0.1277 - accuracy: 0.9528 - val_loss: 0.2279 - val_accuracy: 0.9303\n",
      "Epoch 37/50\n",
      "185/185 [==============================] - 41s 223ms/step - loss: 0.1160 - accuracy: 0.9631 - val_loss: 0.2324 - val_accuracy: 0.9344\n",
      "Epoch 38/50\n",
      "185/185 [==============================] - 47s 254ms/step - loss: 0.1056 - accuracy: 0.9645 - val_loss: 0.2180 - val_accuracy: 0.9445\n",
      "Epoch 39/50\n",
      "185/185 [==============================] - 42s 228ms/step - loss: 0.0943 - accuracy: 0.9702 - val_loss: 0.2373 - val_accuracy: 0.9303\n",
      "Epoch 40/50\n",
      "185/185 [==============================] - 39s 211ms/step - loss: 0.0908 - accuracy: 0.9718 - val_loss: 0.2179 - val_accuracy: 0.9418\n",
      "Epoch 41/50\n",
      "185/185 [==============================] - 48s 258ms/step - loss: 0.0915 - accuracy: 0.9699 - val_loss: 0.2065 - val_accuracy: 0.9438\n",
      "Epoch 42/50\n",
      "185/185 [==============================] - 40s 214ms/step - loss: 0.0782 - accuracy: 0.9775 - val_loss: 0.4516 - val_accuracy: 0.8539\n",
      "Epoch 43/50\n",
      "185/185 [==============================] - 56s 301ms/step - loss: 0.0746 - accuracy: 0.9780 - val_loss: 0.2180 - val_accuracy: 0.9405\n",
      "Epoch 44/50\n",
      "185/185 [==============================] - 46s 251ms/step - loss: 0.1035 - accuracy: 0.9689 - val_loss: 0.2132 - val_accuracy: 0.9425\n",
      "Epoch 45/50\n",
      "185/185 [==============================] - 55s 296ms/step - loss: 0.0741 - accuracy: 0.9790 - val_loss: 0.2215 - val_accuracy: 0.9459\n",
      "Epoch 46/50\n",
      "185/185 [==============================] - 38s 206ms/step - loss: 0.0661 - accuracy: 0.9826 - val_loss: 0.2198 - val_accuracy: 0.9479\n",
      "Epoch 47/50\n",
      "185/185 [==============================] - 38s 205ms/step - loss: 0.0474 - accuracy: 0.9897 - val_loss: 0.2180 - val_accuracy: 0.9472\n",
      "Epoch 48/50\n",
      "185/185 [==============================] - 40s 219ms/step - loss: 0.0436 - accuracy: 0.9912 - val_loss: 0.2212 - val_accuracy: 0.9452\n",
      "Epoch 49/50\n",
      "185/185 [==============================] - 59s 320ms/step - loss: 0.0427 - accuracy: 0.9917 - val_loss: 0.2224 - val_accuracy: 0.9452\n",
      "Epoch 50/50\n",
      "185/185 [==============================] - 56s 301ms/step - loss: 0.0420 - accuracy: 0.9917 - val_loss: 0.2195 - val_accuracy: 0.9479\n"
     ]
    },
    {
     "data": {
      "text/plain": [
       "<matplotlib.legend.Legend at 0x1a3f5da2250>"
      ]
     },
     "execution_count": 8,
     "metadata": {},
     "output_type": "execute_result"
    },
    {
     "data": {
      "image/png": "[encoded data removed]",
      "text/plain": [
       "<Figure size 432x288 with 1 Axes>"
      ]
     },
     "metadata": {
      "needs_background": "light"
     },
     "output_type": "display_data"
    }
   ],
   "source": [
    "model =  keras.Sequential([\n",
    "    keras.layers.Conv2D(32,5,5, padding='same', activation='relu'),\n",
    "    keras.layers.MaxPooling2D(pool_size=(2,2), padding='same'),\n",
    "    keras.layers.Dropout(0.2),\n",
    "    keras.layers.Flatten(),\n",
    "    keras.layers.Dense(32, activation='relu'), \n",
    "    keras.layers.Dense(1, activation='sigmoid')\n",
    "])\n",
    "\n",
    "optimizer = tf.keras.optimizers.SGD(learning_rate=0.02)\n",
    "\n",
    "model.compile(optimizer=optimizer, loss='BinaryCrossentropy', metrics=['accuracy'])\n",
    "\n",
    "model_performance = model.fit(train_generator, \n",
    "                              validation_data= validation_generator, \n",
    "                              callbacks=[reduce_lr], \n",
    "                              epochs=50)\n",
    "\n",
    "plt.plot(model_performance.history['accuracy'])\n",
    "plt.plot(model_performance.history['val_accuracy'])\n",
    "plt.title('Accuracy by epochs')\n",
    "plt.legend(['train', 'validation'])"
   ]
  },
  {
   "cell_type": "code",
   "execution_count": 9,
   "id": "9c3f561d",
   "metadata": {},
   "outputs": [
    {
     "name": "stdout",
     "output_type": "stream",
     "text": [
      "INFO:tensorflow:Assets written to: models/94_val_acc_31_01_22\\assets\n"
     ]
    }
   ],
   "source": [
    "folder = 'models/01_02_22'\n",
    "model.save(folder)\n",
    "pd.DataFrame.from_dict(model_performance.history).to_csv(folder + '/history.csv',index=False)"
   ]
  },
  {
   "cell_type": "code",
   "execution_count": 14,
   "id": "94f2845b",
   "metadata": {},
   "outputs": [
    {
     "data": {
      "text/plain": [
       "<matplotlib.legend.Legend at 0x1a405fefb50>"
      ]
     },
     "execution_count": 14,
     "metadata": {},
     "output_type": "execute_result"
    },
    {
     "data": {
      "image/png": "[encoded data removed]",
      "text/plain": [
       "<Figure size 432x288 with 1 Axes>"
      ]
     },
     "metadata": {
      "needs_background": "light"
     },
     "output_type": "display_data"
    }
   ],
   "source": [
    "plt.plot(model_performance.history['loss'])\n",
    "plt.plot(model_performance.history['val_loss'])\n",
    "plt.title('Loss by epochs')\n",
    "plt.legend(['train', 'validation'])"
   ]
  },
  {
   "cell_type": "code",
   "execution_count": 15,
   "id": "e2d75407",
   "metadata": {},
   "outputs": [
    {
     "data": {
      "text/plain": [
       "<matplotlib.legend.Legend at 0x1a4020fcc10>"
      ]
     },
     "execution_count": 15,
     "metadata": {},
     "output_type": "execute_result"
    },
    {
     "data": {
      "image/png": "[encoded data removed]",
      "text/plain": [
       "<Figure size 432x288 with 1 Axes>"
      ]
     },
     "metadata": {
      "needs_background": "light"
     },
     "output_type": "display_data"
    }
   ],
   "source": [
    "plt.plot(model_performance.history['lr'])\n",
    "plt.title('Learning Rate by Epochs')\n",
    "plt.legend(['train'])"
   ]
  },
  {
   "cell_type": "code",
   "execution_count": 64,
   "id": "f8742de1",
   "metadata": {},
   "outputs": [],
   "source": [
    "train_pred = model.predict(validation_generator)\n",
    "confus_matrix = tf.math.confusion_matrix(labels=validation_generator.__dict__['classes'], predictions=train_pred.ravel()>0.5)"
   ]
  },
  {
   "cell_type": "code",
   "execution_count": 66,
   "id": "1f32f0d6",
   "metadata": {},
   "outputs": [
    {
     "data": {
      "text/plain": [
       "<tf.Tensor: shape=(2, 2), dtype=int32, numpy=\n",
       "array([[783,  17],\n",
       "       [ 60, 618]])>"
      ]
     },
     "execution_count": 66,
     "metadata": {},
     "output_type": "execute_result"
    }
   ],
   "source": [
    "confus_matrix"
   ]
  }
 ],
 "metadata": {
  "kernelspec": {
   "display_name": "Python 3 (ipykernel)",
   "language": "python",
   "name": "python3"
  },
  "language_info": {
   "codemirror_mode": {
    "name": "ipython",
    "version": 3
   },
   "file_extension": ".py",
   "mimetype": "text/x-python",
   "name": "python",
   "nbconvert_exporter": "python",
   "pygments_lexer": "ipython3",
   "version": "3.9.7"
  }
 },
 "nbformat": 4,
 "nbformat_minor": 5
}
