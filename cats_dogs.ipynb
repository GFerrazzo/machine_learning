{
 "cells": [
  {
   "cell_type": "markdown",
   "id": "2c4e113e",
   "metadata": {},
   "source": [
    "# Introdução"
   ]
  },
  {
   "cell_type": "markdown",
   "id": "4ac71c45",
   "metadata": {},
   "source": [
    "Neste notebook, criarei um modelo de rede neural capaz de classificar as imagens do dataset [Oxford-IIIT Pet Dataset](https://www.robots.ox.ac.uk/~vgg/data/pets) em cão ou gato. \n",
    "\n",
    "Utilizarei, majoritariamente, a biblioteca tensorflow+keras."
   ]
  },
  {
   "cell_type": "code",
   "execution_count": 1,
   "id": "53691bb9",
   "metadata": {},
   "outputs": [],
   "source": [
    "# importacao de bibliotecas necessarias\n",
    "\n",
    "# bibliotecas de redes neurais\n",
    "import tensorflow as tf\n",
    "from tensorflow import keras\n",
    "from keras.preprocessing import image\n",
    "from keras.utils.vis_utils import plot_model\n",
    "\n",
    "# bibliotecas de manipulacao de variaveis de ambiente e acesso a diretorios\n",
    "import os, warnings\n",
    "import glob\n",
    "\n",
    "# bibliotecas de manipulacao e visualizacao de dados\n",
    "import pandas as pd\n",
    "import numpy as np\n",
    "import matplotlib.pyplot as plt"
   ]
  },
  {
   "cell_type": "markdown",
   "id": "6cc72476",
   "metadata": {},
   "source": [
    "# Leitura do Dataset"
   ]
  },
  {
   "cell_type": "markdown",
   "id": "4f833c4f",
   "metadata": {},
   "source": [
    "Optei por realizar a leitura local do dataset em vez do uso de tensorflow_datasets.load() pois essa biblioteca estava gerando um erro em minha máquina."
   ]
  },
  {
   "cell_type": "code",
   "execution_count": 2,
   "id": "ba46e444",
   "metadata": {},
   "outputs": [],
   "source": [
    "dir_name='dataset/images/*' # define a pasta onde estao as imagens\n",
    "\n",
    "pets_files = glob.glob(dir_name)  # cria uma lista com o caminho dos arquivos encontrados dentro da pasta\n",
    "pets_df = pd.DataFrame(pets_files) # transforma a lista em dataframe"
   ]
  },
  {
   "cell_type": "code",
   "execution_count": 3,
   "id": "e9be8683",
   "metadata": {},
   "outputs": [],
   "source": [
    "pets_df.columns = ['full_path'] # renomeia a unica coluna do dataframe\n",
    "pets_df['file_name'] = pets_df['full_path'].str.split('\\\\').str[1] # cria uma coluna chamada 'file_name' \n",
    "# composta pelo nome dos arquivos"
   ]
  },
  {
   "cell_type": "markdown",
   "id": "b0d6bed8",
   "metadata": {},
   "source": [
    "Neste dataframe, conforme a documentação, arquivos que começam com letra maiúscula são imagens de gatos, enquanto arquivos que começam com letra minúscula são imagens de cachorros.\n",
    "\n",
    "Vamos, então, mapear o nome dos arquivos para definir as classes."
   ]
  },
  {
   "cell_type": "code",
   "execution_count": 4,
   "id": "1c1b8a81",
   "metadata": {},
   "outputs": [],
   "source": [
    "pets_df['label'] = pets_df['file_name'].str[0].str.isupper().map({True:'1', False:'0'}) # mapeia arquivo\n",
    "# com primeira letra maiuscula -> True = 1 = Gato, False = 0 = Cachorro"
   ]
  },
  {
   "cell_type": "code",
   "execution_count": 5,
   "id": "6957fc7f",
   "metadata": {},
   "outputs": [
    {
     "data": {
      "text/html": [
       "<div>\n",
       "<style scoped>\n",
       "    .dataframe tbody tr th:only-of-type {\n",
       "        vertical-align: middle;\n",
       "    }\n",
       "\n",
       "    .dataframe tbody tr th {\n",
       "        vertical-align: top;\n",
       "    }\n",
       "\n",
       "    .dataframe thead th {\n",
       "        text-align: right;\n",
       "    }\n",
       "</style>\n",
       "<table border=\"1\" class=\"dataframe\">\n",
       "  <thead>\n",
       "    <tr style=\"text-align: right;\">\n",
       "      <th></th>\n",
       "      <th>full_path</th>\n",
       "      <th>file_name</th>\n",
       "      <th>label</th>\n",
       "    </tr>\n",
       "  </thead>\n",
       "  <tbody>\n",
       "    <tr>\n",
       "      <th>5524</th>\n",
       "      <td>dataset/images\\Russian_Blue_236.jpg</td>\n",
       "      <td>Russian_Blue_236.jpg</td>\n",
       "      <td>1</td>\n",
       "    </tr>\n",
       "    <tr>\n",
       "      <th>2612</th>\n",
       "      <td>dataset/images\\english_setter_107.jpg</td>\n",
       "      <td>english_setter_107.jpg</td>\n",
       "      <td>0</td>\n",
       "    </tr>\n",
       "    <tr>\n",
       "      <th>1254</th>\n",
       "      <td>dataset/images\\Birman_145.jpg</td>\n",
       "      <td>Birman_145.jpg</td>\n",
       "      <td>1</td>\n",
       "    </tr>\n",
       "    <tr>\n",
       "      <th>5553</th>\n",
       "      <td>dataset/images\\Russian_Blue_48.jpg</td>\n",
       "      <td>Russian_Blue_48.jpg</td>\n",
       "      <td>1</td>\n",
       "    </tr>\n",
       "    <tr>\n",
       "      <th>2249</th>\n",
       "      <td>dataset/images\\Egyptian_Mau_142.jpg</td>\n",
       "      <td>Egyptian_Mau_142.jpg</td>\n",
       "      <td>1</td>\n",
       "    </tr>\n",
       "  </tbody>\n",
       "</table>\n",
       "</div>"
      ],
      "text/plain": [
       "                                  full_path               file_name label\n",
       "5524    dataset/images\\Russian_Blue_236.jpg    Russian_Blue_236.jpg     1\n",
       "2612  dataset/images\\english_setter_107.jpg  english_setter_107.jpg     0\n",
       "1254          dataset/images\\Birman_145.jpg          Birman_145.jpg     1\n",
       "5553     dataset/images\\Russian_Blue_48.jpg     Russian_Blue_48.jpg     1\n",
       "2249    dataset/images\\Egyptian_Mau_142.jpg    Egyptian_Mau_142.jpg     1"
      ]
     },
     "execution_count": 5,
     "metadata": {},
     "output_type": "execute_result"
    }
   ],
   "source": [
    "pets_df.sample(5)"
   ]
  },
  {
   "cell_type": "code",
   "execution_count": 6,
   "id": "09c96b4e",
   "metadata": {},
   "outputs": [
    {
     "name": "stderr",
     "output_type": "stream",
     "text": [
      "C:\\Users\\Ferrazzo\\anaconda3\\envs\\tensorflorw\\lib\\site-packages\\keras_preprocessing\\image\\dataframe_iterator.py:279: UserWarning: Found 3 invalid image filename(s) in x_col=\"file_name\". These filename(s) will be ignored.\n",
      "  warnings.warn(\n"
     ]
    },
    {
     "name": "stdout",
     "output_type": "stream",
     "text": [
      "Found 5912 validated image filenames belonging to 2 classes.\n",
      "Found 1478 validated image filenames belonging to 2 classes.\n"
     ]
    },
    {
     "name": "stderr",
     "output_type": "stream",
     "text": [
      "C:\\Users\\Ferrazzo\\anaconda3\\envs\\tensorflorw\\lib\\site-packages\\keras_preprocessing\\image\\dataframe_iterator.py:279: UserWarning: Found 3 invalid image filename(s) in x_col=\"file_name\". These filename(s) will be ignored.\n",
      "  warnings.warn(\n"
     ]
    }
   ],
   "source": [
    "datagen = image.ImageDataGenerator(rescale=1/255., validation_split=0.2)\n",
    "# como vamos trabalhar com as cores das imagens, torna-se necessario normalizar os valores do canal RGB para 0 a 1, por isso\n",
    "# o argumento rescale=1/255\n",
    "# utilizaremos 20% do dataset como validacao, e os outros 80% como treino.\n",
    "# essa divisao de treino/validacao se deu experimentalmente. Apos testar com valores superiores e percerber que o modela\n",
    "# acabava resultando em underfitting\n",
    "\n",
    "train_generator = datagen.flow_from_dataframe(dataframe=pets_df.sample(pets_df.shape[0]), \n",
    "                                              directory= 'dataset/images',\n",
    "                                              x_col='file_name',\n",
    "                                              y_col='label',\n",
    "                                              target_size=(256,256), # retransformamos as imagens em 256x256pixels\n",
    "                                              class_mode='binary', # nossa classe é 0 ou 1, logo, binario.\n",
    "                                              shuffle=False,\n",
    "                                              subset='training')\n",
    "\n",
    "validation_generator = datagen.flow_from_dataframe(dataframe=pets_df.sample(pets_df.shape[0]), \n",
    "                                                   directory= 'dataset/images',\n",
    "                                                   x_col='file_name',\n",
    "                                                   y_col='label',\n",
    "                                                   target_size=(256,256), # retransformamos as imagens em 256x256pixels\n",
    "                                                   class_mode='binary', # nossa classe é 0 ou 1, logo, binario.\n",
    "                                                   shuffle=False,\n",
    "                                                   subset='validation')"
   ]
  },
  {
   "cell_type": "code",
   "execution_count": null,
   "id": "2424cb0e",
   "metadata": {},
   "outputs": [],
   "source": [
    "# nao encontrei metodo para imprimir os arquivos que causam \n",
    "# \"UserWarning: Found 3 invalid image filename(s) in x_col=\"file_name\". These filename(s) will be ignored.\"\n",
    "# e, caso eu use validate_filenames=False, o modelo nao compila devido a esses arquivos com erro.\n",
    "# como a quantidade é baixa (6 contra 7390 validos), considerei irrelevante."
   ]
  },
  {
   "cell_type": "code",
   "execution_count": 7,
   "id": "1607083a",
   "metadata": {},
   "outputs": [
    {
     "name": "stdout",
     "output_type": "stream",
     "text": [
      "Nossa distribuição de classes é de 32.93% no dataset de treino\n",
      "Nossa distribuição de classes é de 32.41% no dataset de validação\n"
     ]
    }
   ],
   "source": [
    "ones_to_zeros_ratio_train = train_generator.__dict__['classes'].count(1)/len(train_generator.__dict__['classes'])\n",
    "print(f\"Nossa distribuição de classes é de {ones_to_zeros_ratio_train * 100:.4}% no dataset de treino\")\n",
    "\n",
    "ones_to_zeros_ratio_validation = validation_generator.__dict__['classes'].count(1)/len(validation_generator.__dict__['classes'])\n",
    "print(f\"Nossa distribuição de classes é de {ones_to_zeros_ratio_validation * 100:.4}% no dataset de validação\")"
   ]
  },
  {
   "cell_type": "markdown",
   "id": "9aa4d05a",
   "metadata": {},
   "source": [
    "Isso implica que nosso dataset está desbalanceado. Pois, de todas imagens de gatos e cachorros, apenas ~32% são imagens de gatos.\n",
    "\n",
    "Podemos, imaginar, então, que nosso modelo será melhor em predizer imagens de cachorros do que de gatos, pois teve uma carga de treino (e validação) maior em imagens de cachorros."
   ]
  },
  {
   "cell_type": "markdown",
   "id": "1a7e8861",
   "metadata": {},
   "source": [
    "# Modelo"
   ]
  },
  {
   "cell_type": "code",
   "execution_count": 8,
   "id": "2bebae9b",
   "metadata": {},
   "outputs": [],
   "source": [
    "# durante algumas execucoes, o modelo acabava estabilizando em uma acuracia nao ideal. \n",
    "# optei, entao, em deixar uma chamada para reduzir o Learning Rate (LR) atraves do metodo ReduceLROnPlateau\n",
    "# que reduz o LR quando alguma metrica do modelo estabiliza\n",
    "\n",
    "reduce_lr = tf.keras.callbacks.ReduceLROnPlateau(monitor='val_loss', # qual metrica sera monitorada\n",
    "                              factor=0.2, # fator de multiplicacao (no caso reducao) do learning rate\n",
    "                              patience=5, # quantas epocas esperamos o \"plateau\"\n",
    "                              min_lr=0.001 # menor learning rate possivel\n",
    "                                )"
   ]
  },
  {
   "cell_type": "code",
   "execution_count": 9,
   "id": "0933b5c7",
   "metadata": {
    "scrolled": true
   },
   "outputs": [
    {
     "name": "stdout",
     "output_type": "stream",
     "text": [
      "Epoch 1/80\n",
      "185/185 [==============================] - 45s 231ms/step - loss: 0.6282 - accuracy: 0.6680 - val_loss: 0.6040 - val_accuracy: 0.6759\n",
      "Epoch 2/80\n",
      "185/185 [==============================] - 40s 217ms/step - loss: 0.6130 - accuracy: 0.6708 - val_loss: 0.5933 - val_accuracy: 0.6759\n",
      "Epoch 3/80\n",
      "185/185 [==============================] - 39s 209ms/step - loss: 0.6001 - accuracy: 0.6756 - val_loss: 0.5960 - val_accuracy: 0.6806\n",
      "Epoch 4/80\n",
      "185/185 [==============================] - 37s 203ms/step - loss: 0.5949 - accuracy: 0.6786 - val_loss: 0.5844 - val_accuracy: 0.6888\n",
      "Epoch 5/80\n",
      "185/185 [==============================] - 37s 202ms/step - loss: 0.5821 - accuracy: 0.6859 - val_loss: 0.5712 - val_accuracy: 0.7016\n",
      "Epoch 6/80\n",
      "185/185 [==============================] - 37s 201ms/step - loss: 0.5722 - accuracy: 0.6947 - val_loss: 0.5756 - val_accuracy: 0.7368\n",
      "Epoch 7/80\n",
      "185/185 [==============================] - 38s 206ms/step - loss: 0.5567 - accuracy: 0.7047 - val_loss: 0.5530 - val_accuracy: 0.6922\n",
      "Epoch 8/80\n",
      "185/185 [==============================] - 37s 203ms/step - loss: 0.5373 - accuracy: 0.7221 - val_loss: 0.5870 - val_accuracy: 0.7016\n",
      "Epoch 9/80\n",
      "185/185 [==============================] - 37s 200ms/step - loss: 0.5214 - accuracy: 0.7343 - val_loss: 0.5293 - val_accuracy: 0.7104\n",
      "Epoch 10/80\n",
      "185/185 [==============================] - 37s 198ms/step - loss: 0.5011 - accuracy: 0.7486 - val_loss: 0.5504 - val_accuracy: 0.7009\n",
      "Epoch 11/80\n",
      "185/185 [==============================] - 36s 197ms/step - loss: 0.4979 - accuracy: 0.7559 - val_loss: 0.4687 - val_accuracy: 0.7842\n",
      "Epoch 12/80\n",
      "185/185 [==============================] - 36s 197ms/step - loss: 0.4747 - accuracy: 0.7683 - val_loss: 0.4570 - val_accuracy: 0.7747\n",
      "Epoch 13/80\n",
      "185/185 [==============================] - 36s 196ms/step - loss: 0.4579 - accuracy: 0.7806 - val_loss: 0.6377 - val_accuracy: 0.6482\n",
      "Epoch 14/80\n",
      "185/185 [==============================] - 36s 196ms/step - loss: 0.4433 - accuracy: 0.7881 - val_loss: 0.4317 - val_accuracy: 0.7930\n",
      "Epoch 15/80\n",
      "185/185 [==============================] - 36s 197ms/step - loss: 0.4274 - accuracy: 0.8011 - val_loss: 0.4093 - val_accuracy: 0.8119\n",
      "Epoch 16/80\n",
      "185/185 [==============================] - 36s 196ms/step - loss: 0.4186 - accuracy: 0.8065 - val_loss: 0.4561 - val_accuracy: 0.7754\n",
      "Epoch 17/80\n",
      "185/185 [==============================] - 37s 199ms/step - loss: 0.3915 - accuracy: 0.8212 - val_loss: 0.3743 - val_accuracy: 0.8376\n",
      "Epoch 18/80\n",
      "185/185 [==============================] - 37s 197ms/step - loss: 0.3782 - accuracy: 0.8307 - val_loss: 0.4573 - val_accuracy: 0.7720\n",
      "Epoch 19/80\n",
      "185/185 [==============================] - 36s 196ms/step - loss: 0.3621 - accuracy: 0.8359 - val_loss: 0.4195 - val_accuracy: 0.8024\n",
      "Epoch 20/80\n",
      "185/185 [==============================] - 36s 197ms/step - loss: 0.3414 - accuracy: 0.8505 - val_loss: 0.3553 - val_accuracy: 0.8430\n",
      "Epoch 21/80\n",
      "185/185 [==============================] - 36s 197ms/step - loss: 0.3232 - accuracy: 0.8601 - val_loss: 0.3260 - val_accuracy: 0.8816\n",
      "Epoch 22/80\n",
      "185/185 [==============================] - 36s 197ms/step - loss: 0.3050 - accuracy: 0.8672 - val_loss: 0.3203 - val_accuracy: 0.8654\n",
      "Epoch 23/80\n",
      "185/185 [==============================] - 36s 196ms/step - loss: 0.2925 - accuracy: 0.8796 - val_loss: 0.3048 - val_accuracy: 0.8877\n",
      "Epoch 24/80\n",
      "185/185 [==============================] - 36s 196ms/step - loss: 0.2688 - accuracy: 0.8862 - val_loss: 0.3094 - val_accuracy: 0.8694\n",
      "Epoch 25/80\n",
      "185/185 [==============================] - 37s 198ms/step - loss: 0.2579 - accuracy: 0.8899 - val_loss: 0.2898 - val_accuracy: 0.8917\n",
      "Epoch 26/80\n",
      "185/185 [==============================] - 37s 198ms/step - loss: 0.2495 - accuracy: 0.8958 - val_loss: 0.2649 - val_accuracy: 0.8992\n",
      "Epoch 27/80\n",
      "185/185 [==============================] - 36s 196ms/step - loss: 0.2249 - accuracy: 0.9083 - val_loss: 0.2857 - val_accuracy: 0.8843\n",
      "Epoch 28/80\n",
      "185/185 [==============================] - 36s 197ms/step - loss: 0.2124 - accuracy: 0.9163 - val_loss: 0.2771 - val_accuracy: 0.8965\n",
      "Epoch 29/80\n",
      "185/185 [==============================] - 37s 199ms/step - loss: 0.1979 - accuracy: 0.9246 - val_loss: 0.2698 - val_accuracy: 0.9060\n",
      "Epoch 30/80\n",
      "185/185 [==============================] - 48s 259ms/step - loss: 0.2018 - accuracy: 0.9195 - val_loss: 0.2434 - val_accuracy: 0.9188\n",
      "Epoch 31/80\n",
      "185/185 [==============================] - 51s 274ms/step - loss: 0.1728 - accuracy: 0.9340 - val_loss: 0.3060 - val_accuracy: 0.8843\n",
      "Epoch 32/80\n",
      "185/185 [==============================] - 52s 283ms/step - loss: 0.1641 - accuracy: 0.9389 - val_loss: 0.2330 - val_accuracy: 0.9229\n",
      "Epoch 33/80\n",
      "185/185 [==============================] - 52s 281ms/step - loss: 0.1546 - accuracy: 0.9423 - val_loss: 0.2451 - val_accuracy: 0.9202\n",
      "Epoch 34/80\n",
      "185/185 [==============================] - 52s 281ms/step - loss: 0.1405 - accuracy: 0.9498 - val_loss: 0.2857 - val_accuracy: 0.8999\n",
      "Epoch 35/80\n",
      "185/185 [==============================] - 53s 286ms/step - loss: 0.1427 - accuracy: 0.9501 - val_loss: 0.2156 - val_accuracy: 0.9344\n",
      "Epoch 36/80\n",
      "185/185 [==============================] - 50s 271ms/step - loss: 0.1250 - accuracy: 0.9577 - val_loss: 0.2314 - val_accuracy: 0.9303\n",
      "Epoch 37/80\n",
      "185/185 [==============================] - 51s 273ms/step - loss: 0.1120 - accuracy: 0.9614 - val_loss: 0.2268 - val_accuracy: 0.9303\n",
      "Epoch 38/80\n",
      "185/185 [==============================] - 51s 274ms/step - loss: 0.1078 - accuracy: 0.9640 - val_loss: 0.2283 - val_accuracy: 0.9350\n",
      "Epoch 39/80\n",
      "185/185 [==============================] - 52s 282ms/step - loss: 0.1056 - accuracy: 0.9633 - val_loss: 0.2360 - val_accuracy: 0.9364\n",
      "Epoch 40/80\n",
      "185/185 [==============================] - 54s 290ms/step - loss: 0.0855 - accuracy: 0.9741 - val_loss: 0.2380 - val_accuracy: 0.9337\n",
      "Epoch 41/80\n",
      "185/185 [==============================] - 50s 272ms/step - loss: 0.0683 - accuracy: 0.9816 - val_loss: 0.2152 - val_accuracy: 0.9371\n",
      "Epoch 42/80\n",
      "185/185 [==============================] - 38s 204ms/step - loss: 0.0612 - accuracy: 0.9871 - val_loss: 0.2156 - val_accuracy: 0.9398\n",
      "Epoch 43/80\n",
      "185/185 [==============================] - 48s 261ms/step - loss: 0.0617 - accuracy: 0.9838 - val_loss: 0.2133 - val_accuracy: 0.9405\n",
      "Epoch 44/80\n",
      "185/185 [==============================] - 52s 279ms/step - loss: 0.0618 - accuracy: 0.9829 - val_loss: 0.2139 - val_accuracy: 0.9405\n",
      "Epoch 45/80\n",
      "185/185 [==============================] - 52s 279ms/step - loss: 0.0596 - accuracy: 0.9846 - val_loss: 0.2190 - val_accuracy: 0.9405\n",
      "Epoch 46/80\n",
      "185/185 [==============================] - 52s 279ms/step - loss: 0.0577 - accuracy: 0.9861 - val_loss: 0.2179 - val_accuracy: 0.9391\n",
      "Epoch 47/80\n",
      "185/185 [==============================] - 51s 277ms/step - loss: 0.0548 - accuracy: 0.9882 - val_loss: 0.2192 - val_accuracy: 0.9398\n",
      "Epoch 48/80\n",
      "185/185 [==============================] - 51s 276ms/step - loss: 0.0546 - accuracy: 0.9871 - val_loss: 0.2158 - val_accuracy: 0.9432\n",
      "Epoch 49/80\n",
      "185/185 [==============================] - 51s 276ms/step - loss: 0.0531 - accuracy: 0.9875 - val_loss: 0.2170 - val_accuracy: 0.9411\n",
      "Epoch 50/80\n",
      "185/185 [==============================] - 53s 284ms/step - loss: 0.0507 - accuracy: 0.9907 - val_loss: 0.2156 - val_accuracy: 0.9425\n",
      "Epoch 51/80\n",
      "185/185 [==============================] - 51s 278ms/step - loss: 0.0511 - accuracy: 0.9910 - val_loss: 0.2167 - val_accuracy: 0.9411\n",
      "Epoch 52/80\n",
      "185/185 [==============================] - 53s 287ms/step - loss: 0.0510 - accuracy: 0.9900 - val_loss: 0.2176 - val_accuracy: 0.9418\n",
      "Epoch 53/80\n",
      "185/185 [==============================] - 51s 274ms/step - loss: 0.0499 - accuracy: 0.9905 - val_loss: 0.2170 - val_accuracy: 0.9418\n",
      "Epoch 54/80\n",
      "185/185 [==============================] - 52s 280ms/step - loss: 0.0541 - accuracy: 0.9868 - val_loss: 0.2163 - val_accuracy: 0.9411\n",
      "Epoch 55/80\n",
      "185/185 [==============================] - 51s 274ms/step - loss: 0.0508 - accuracy: 0.9893 - val_loss: 0.2162 - val_accuracy: 0.9425\n",
      "Epoch 56/80\n",
      "185/185 [==============================] - 51s 278ms/step - loss: 0.0513 - accuracy: 0.9885 - val_loss: 0.2162 - val_accuracy: 0.9411\n",
      "Epoch 57/80\n"
     ]
    },
    {
     "name": "stdout",
     "output_type": "stream",
     "text": [
      "185/185 [==============================] - 51s 275ms/step - loss: 0.0494 - accuracy: 0.9893 - val_loss: 0.2158 - val_accuracy: 0.9418\n",
      "Epoch 58/80\n",
      "185/185 [==============================] - 51s 273ms/step - loss: 0.0495 - accuracy: 0.9888 - val_loss: 0.2167 - val_accuracy: 0.9405\n",
      "Epoch 59/80\n",
      "185/185 [==============================] - 52s 280ms/step - loss: 0.0506 - accuracy: 0.9905 - val_loss: 0.2171 - val_accuracy: 0.9405\n",
      "Epoch 60/80\n",
      "185/185 [==============================] - 49s 263ms/step - loss: 0.0503 - accuracy: 0.9909 - val_loss: 0.2161 - val_accuracy: 0.9425\n",
      "Epoch 61/80\n",
      "185/185 [==============================] - 37s 199ms/step - loss: 0.0489 - accuracy: 0.9907 - val_loss: 0.2154 - val_accuracy: 0.9418\n",
      "Epoch 62/80\n",
      "185/185 [==============================] - 37s 198ms/step - loss: 0.0512 - accuracy: 0.9902 - val_loss: 0.2176 - val_accuracy: 0.9418\n",
      "Epoch 63/80\n",
      "185/185 [==============================] - 37s 197ms/step - loss: 0.0490 - accuracy: 0.9905 - val_loss: 0.2161 - val_accuracy: 0.9432\n",
      "Epoch 64/80\n",
      "185/185 [==============================] - 48s 263ms/step - loss: 0.0498 - accuracy: 0.9900 - val_loss: 0.2175 - val_accuracy: 0.9411\n",
      "Epoch 65/80\n",
      "185/185 [==============================] - 45s 243ms/step - loss: 0.0528 - accuracy: 0.9877 - val_loss: 0.2170 - val_accuracy: 0.9418\n",
      "Epoch 66/80\n",
      "185/185 [==============================] - 55s 299ms/step - loss: 0.0516 - accuracy: 0.9904 - val_loss: 0.2158 - val_accuracy: 0.9405\n",
      "Epoch 67/80\n",
      "185/185 [==============================] - 77s 414ms/step - loss: 0.0495 - accuracy: 0.9907 - val_loss: 0.2167 - val_accuracy: 0.9405\n",
      "Epoch 68/80\n",
      "185/185 [==============================] - 50s 271ms/step - loss: 0.0468 - accuracy: 0.9921 - val_loss: 0.2163 - val_accuracy: 0.9411\n",
      "Epoch 69/80\n",
      "185/185 [==============================] - 52s 284ms/step - loss: 0.0469 - accuracy: 0.9909 - val_loss: 0.2172 - val_accuracy: 0.9405\n",
      "Epoch 70/80\n",
      "185/185 [==============================] - 38s 205ms/step - loss: 0.0473 - accuracy: 0.9912 - val_loss: 0.2160 - val_accuracy: 0.9432\n",
      "Epoch 71/80\n",
      "185/185 [==============================] - 38s 203ms/step - loss: 0.0474 - accuracy: 0.9909 - val_loss: 0.2155 - val_accuracy: 0.9418\n",
      "Epoch 72/80\n",
      "185/185 [==============================] - 40s 219ms/step - loss: 0.0493 - accuracy: 0.9912 - val_loss: 0.2163 - val_accuracy: 0.9418\n",
      "Epoch 73/80\n",
      "185/185 [==============================] - 57s 306ms/step - loss: 0.0489 - accuracy: 0.9902 - val_loss: 0.2174 - val_accuracy: 0.9411\n",
      "Epoch 74/80\n",
      "185/185 [==============================] - 48s 261ms/step - loss: 0.0471 - accuracy: 0.9893 - val_loss: 0.2158 - val_accuracy: 0.9438\n",
      "Epoch 75/80\n",
      "185/185 [==============================] - 51s 277ms/step - loss: 0.0494 - accuracy: 0.9893 - val_loss: 0.2183 - val_accuracy: 0.9418\n",
      "Epoch 76/80\n",
      "185/185 [==============================] - 40s 213ms/step - loss: 0.0483 - accuracy: 0.9904 - val_loss: 0.2173 - val_accuracy: 0.9425\n",
      "Epoch 77/80\n",
      "185/185 [==============================] - 38s 208ms/step - loss: 0.0468 - accuracy: 0.9902 - val_loss: 0.2175 - val_accuracy: 0.9405\n",
      "Epoch 78/80\n",
      "185/185 [==============================] - 37s 202ms/step - loss: 0.0484 - accuracy: 0.9902 - val_loss: 0.2165 - val_accuracy: 0.9425\n",
      "Epoch 79/80\n",
      "185/185 [==============================] - 37s 201ms/step - loss: 0.0460 - accuracy: 0.9907 - val_loss: 0.2183 - val_accuracy: 0.9398\n",
      "Epoch 80/80\n",
      "185/185 [==============================] - 36s 194ms/step - loss: 0.0496 - accuracy: 0.9893 - val_loss: 0.2176 - val_accuracy: 0.9411\n"
     ]
    }
   ],
   "source": [
    "model =  keras.Sequential([\n",
    "    keras.layers.Conv2D(32,5,5, padding='same', activation='relu'), # utilizamos a camada Conv2D para realçar curvas e \n",
    "    keras.layers.MaxPooling2D(pool_size=(2,2), padding='same'), # a camada MaxPooling2D dá mais contraste a esses realces\n",
    "    keras.layers.Dropout(0.2), # Dropout zera uma parte dos inputs para reduzir a interconectividade dos neuronios\n",
    "    keras.layers.Flatten(), # reduz os neuronios à uma dimensao\n",
    "    keras.layers.Dense(32, activation='relu'), \n",
    "    keras.layers.Dense(1, activation='sigmoid')\n",
    "])\n",
    "\n",
    "optimizer = tf.keras.optimizers.SGD(learning_rate=0.02) \n",
    "# iniciamos com 0.02 de LR, e reduziremos com ReduceLROnPlateau caso necessario\n",
    "\n",
    "model.compile(optimizer=optimizer, loss='BinaryCrossentropy', metrics=['accuracy'])\n",
    "\n",
    "model_performance = model.fit(train_generator, \n",
    "                              validation_data= validation_generator, \n",
    "                              callbacks=[reduce_lr], \n",
    "                              epochs=80)\n",
    "# em minhas primeiras execucoes, comecei com 10 epocas, até encontrar um modelo que nao estagnasse em uma baixa acurácia\n",
    "# logo cedo. Em seguida, avancei para 30 epocas para verificar se as alteracoes de parametros que eu estava executando\n",
    "# estavam causando efeito em epocas mais a frente. Apos, executei com 50 epocas, onde foi possivel verificar que o modelo\n",
    "# alcancou uma boa acuracia, mas com espaco para melhoras em proximas epocas. Por fim, executei 80 epocas.\n",
    "# Nessa execucacao final, pude notar que o modelo estabilizou em uma acuracia razoavel e que mais epocas nao trariam\n",
    "# muita melhora ao treinamento.\n"
   ]
  },
  {
   "cell_type": "code",
   "execution_count": 10,
   "id": "7a2548c5",
   "metadata": {},
   "outputs": [
    {
     "name": "stdout",
     "output_type": "stream",
     "text": [
      "Model: \"sequential\"\n",
      "_________________________________________________________________\n",
      "Layer (type)                 Output Shape              Param #   \n",
      "=================================================================\n",
      "conv2d (Conv2D)              (None, None, None, 32)    2432      \n",
      "_________________________________________________________________\n",
      "max_pooling2d (MaxPooling2D) (None, None, None, 32)    0         \n",
      "_________________________________________________________________\n",
      "dropout (Dropout)            (None, None, None, 32)    0         \n",
      "_________________________________________________________________\n",
      "flatten (Flatten)            (None, None)              0         \n",
      "_________________________________________________________________\n",
      "dense (Dense)                (None, 32)                692256    \n",
      "_________________________________________________________________\n",
      "dense_1 (Dense)              (None, 1)                 33        \n",
      "=================================================================\n",
      "Total params: 694,721\n",
      "Trainable params: 694,721\n",
      "Non-trainable params: 0\n",
      "_________________________________________________________________\n"
     ]
    }
   ],
   "source": [
    "model.summary()"
   ]
  },
  {
   "cell_type": "code",
   "execution_count": 11,
   "id": "9c3f561d",
   "metadata": {},
   "outputs": [
    {
     "name": "stdout",
     "output_type": "stream",
     "text": [
      "INFO:tensorflow:Assets written to: models/94_val_acc_01_02_22\\assets\n"
     ]
    }
   ],
   "source": [
    "folder = 'models/94_val_acc_01_02_22'\n",
    "model.save(folder)\n",
    "pd.DataFrame.from_dict(model_performance.history).to_csv(folder + '/history.csv',index=False)\n",
    "\n",
    "# salvando o historico de metricas e o modelo para a pasta 'models' para que possamos carrega-los em outras oportunidades"
   ]
  },
  {
   "cell_type": "markdown",
   "id": "c61f7aa0",
   "metadata": {},
   "source": [
    "# Análise das métricas"
   ]
  },
  {
   "cell_type": "code",
   "execution_count": 13,
   "id": "bf1d564f",
   "metadata": {},
   "outputs": [
    {
     "data": {
      "text/plain": [
       "<matplotlib.legend.Legend at 0x2428583afd0>"
      ]
     },
     "execution_count": 13,
     "metadata": {},
     "output_type": "execute_result"
    },
    {
     "data": {
      "image/png": "[encoded data removed]",
      "text/plain": [
       "<Figure size 432x288 with 1 Axes>"
      ]
     },
     "metadata": {
      "needs_background": "light"
     },
     "output_type": "display_data"
    }
   ],
   "source": [
    "# Plot da acuracia de treino e validacao\n",
    "plt.plot(model_performance.history['accuracy'])\n",
    "plt.plot(model_performance.history['val_accuracy'])\n",
    "plt.title('Accuracy by epochs')\n",
    "plt.legend(['train', 'validation'])"
   ]
  },
  {
   "cell_type": "code",
   "execution_count": 19,
   "id": "94f2845b",
   "metadata": {},
   "outputs": [
    {
     "data": {
      "text/plain": [
       "<matplotlib.legend.Legend at 0x24273115dc0>"
      ]
     },
     "execution_count": 19,
     "metadata": {},
     "output_type": "execute_result"
    },
    {
     "data": {
      "image/png": "[encoded data removed]",
      "text/plain": [
       "<Figure size 432x288 with 1 Axes>"
      ]
     },
     "metadata": {
      "needs_background": "light"
     },
     "output_type": "display_data"
    }
   ],
   "source": [
    "# Plot da perda de treino e validacao\n",
    "plt.plot(model_performance.history['loss'])\n",
    "plt.plot(model_performance.history['val_loss'])\n",
    "plt.title('Loss by epochs')\n",
    "plt.legend(['train', 'validation'])"
   ]
  },
  {
   "cell_type": "code",
   "execution_count": 20,
   "id": "e2d75407",
   "metadata": {},
   "outputs": [
    {
     "data": {
      "text/plain": [
       "<matplotlib.legend.Legend at 0x2427312d4f0>"
      ]
     },
     "execution_count": 20,
     "metadata": {},
     "output_type": "execute_result"
    },
    {
     "data": {
      "image/png": "[encoded data removed]",
      "text/plain": [
       "<Figure size 432x288 with 1 Axes>"
      ]
     },
     "metadata": {
      "needs_background": "light"
     },
     "output_type": "display_data"
    }
   ],
   "source": [
    "# Plot da variacao do Learning Rate\n",
    "plt.plot(model_performance.history['lr'])\n",
    "plt.title('Learning Rate by Epochs')\n",
    "plt.legend(['train'])"
   ]
  },
  {
   "cell_type": "code",
   "execution_count": 21,
   "id": "f8742de1",
   "metadata": {},
   "outputs": [],
   "source": [
    "# matriz de confusao\n",
    "train_pred = model.predict(validation_generator)\n",
    "confus_matrix = tf.math.confusion_matrix(labels=validation_generator.__dict__['classes'], predictions=train_pred.ravel()>0.5)"
   ]
  },
  {
   "cell_type": "code",
   "execution_count": 22,
   "id": "1f32f0d6",
   "metadata": {},
   "outputs": [
    {
     "data": {
      "text/plain": [
       "<tf.Tensor: shape=(2, 2), dtype=int32, numpy=\n",
       "array([[947,  52],\n",
       "       [ 35, 444]])>"
      ]
     },
     "execution_count": 22,
     "metadata": {},
     "output_type": "execute_result"
    }
   ],
   "source": [
    "confus_matrix"
   ]
  },
  {
   "cell_type": "markdown",
   "id": "3ba36919",
   "metadata": {},
   "source": []
  },
  {
   "cell_type": "code",
   "execution_count": null,
   "id": "7c6d8e5a",
   "metadata": {},
   "outputs": [],
   "source": [
    "# explicar o modelo\n",
    "# tirar insights das metricas\n",
    "# conclusoes e correcoes possiveis"
   ]
  },
  {
   "cell_type": "code",
   "execution_count": null,
   "id": "0327b079",
   "metadata": {},
   "outputs": [],
   "source": []
  }
 ],
 "metadata": {
  "kernelspec": {
   "display_name": "Python 3 (ipykernel)",
   "language": "python",
   "name": "python3"
  },
  "language_info": {
   "codemirror_mode": {
    "name": "ipython",
    "version": 3
   },
   "file_extension": ".py",
   "mimetype": "text/x-python",
   "name": "python",
   "nbconvert_exporter": "python",
   "pygments_lexer": "ipython3",
   "version": "3.9.7"
  }
 },
 "nbformat": 4,
 "nbformat_minor": 5
}
